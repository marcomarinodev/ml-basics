{
 "cells": [
  {
   "cell_type": "code",
   "execution_count": 1,
   "metadata": {},
   "outputs": [],
   "source": [
    "import numpy as np"
   ]
  },
  {
   "cell_type": "code",
   "execution_count": 7,
   "metadata": {},
   "outputs": [
    {
     "name": "stdout",
     "output_type": "stream",
     "text": [
      "[[ 1  2]\n",
      " [ 3  4]\n",
      " [12 30]]\n",
      "X before:\n",
      " [[2 7 1 4]\n",
      " [4 9 6 2]\n",
      " [6 2 6 5]]\n",
      "[[1. 2. 7. 1. 4.]\n",
      " [1. 4. 9. 6. 2.]\n",
      " [1. 6. 2. 6. 5.]]\n"
     ]
    }
   ],
   "source": [
    "# NUMPY CONCATENATE\n",
    "x = np.array([[1,2],[3,4]])  \n",
    "y = np.array([[12,30]])  \n",
    "z = np.concatenate((x,y))  \n",
    "print(z)\n",
    "\n",
    "# Generating a random 3 x 4 matrix\n",
    "X = np.random.randint(low=0, high=10, size=(3, 4))\n",
    "print(f\"X before:\\n {X}\")\n",
    "# column of ones\n",
    "# len(X) = number of rows in X\n",
    "ones = np.ones(len(X)).reshape(len(X), 1)\n",
    "\n",
    "# add the column of ones along y-axis \n",
    "# assertEqual(len(X), len(ones))\n",
    "X = np.concatenate((ones, X), axis = 1)\n",
    "print(np.array(X))"
   ]
  }
 ],
 "metadata": {
  "kernelspec": {
   "display_name": "Python 3",
   "language": "python",
   "name": "python3"
  },
  "language_info": {
   "codemirror_mode": {
    "name": "ipython",
    "version": 3
   },
   "file_extension": ".py",
   "mimetype": "text/x-python",
   "name": "python",
   "nbconvert_exporter": "python",
   "pygments_lexer": "ipython3",
   "version": "3.11.9"
  }
 },
 "nbformat": 4,
 "nbformat_minor": 2
}
